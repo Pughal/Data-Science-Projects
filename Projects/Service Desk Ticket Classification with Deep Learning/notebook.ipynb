{
 "cells": [
  {
   "cell_type": "markdown",
   "id": "e5870ae0-6165-459e-9c40-0f282883be7b",
   "metadata": {
    "executionCancelledAt": null,
    "executionTime": 165,
    "lastExecutedAt": 1707667023665,
    "lastScheduledRunId": null,
    "lastSuccessfullyExecutedCode": "CleverSupport is a company at the forefront of AI innovation, specializing in the development of AI-driven solutions to enhance customer support services. Their latest endeavor is to engineer a text classification system that can autonomously categorize customer complaints. \n\nYour role as a data scientist involves the creation of a sophisticated machine learning model that can accurately assign complaints to specific categories, such as technical issues, billing inquiries, cancellation requests, refunds, and product information requests."
   },
   "source": [
    "![servicedesk](servicedesk.png)\n",
    "\n",
    "CleverSupport is a company at the forefront of AI innovation, specializing in the development of AI-driven solutions to enhance customer support services. Their latest endeavor is to engineer a text classification system that can automatically categorize customer complaints. \n",
    "\n",
    "Your role as a data scientist involves the creation of a sophisticated machine learning model that can accurately assign complaints to specific categories, such as mortgage, credit card, money transfers, debt collection, etc."
   ]
  },
  {
   "cell_type": "code",
   "execution_count": null,
   "id": "0dd4beb4-2329-4b0d-8a34-2354ee9c7fb4",
   "metadata": {
    "collapsed": true,
    "executionCancelledAt": null,
    "executionTime": 3176,
    "jupyter": {
     "outputs_hidden": true,
     "source_hidden": false
    },
    "lastExecutedAt": 1736925319140,
    "lastExecutedByKernel": "8225b660-98ad-4d38-ba81-b4f845067e82",
    "lastScheduledRunId": null,
    "lastSuccessfullyExecutedCode": "!pip install torchmetrics",
    "outputsMetadata": {
     "0": {
      "height": 616,
      "type": "stream"
     }
    }
   },
   "outputs": [],
   "source": [
    "!pip install torchmetrics"
   ]
  },
  {
   "cell_type": "code",
   "execution_count": 4,
   "id": "2fa90b61-0244-4236-aa93-e33a7a088eec",
   "metadata": {
    "collapsed": false,
    "executionCancelledAt": null,
    "executionTime": 53,
    "jupyter": {
     "outputs_hidden": false,
     "source_hidden": false
    },
    "lastExecutedAt": 1736925319195,
    "lastExecutedByKernel": "8225b660-98ad-4d38-ba81-b4f845067e82",
    "lastScheduledRunId": null,
    "lastSuccessfullyExecutedCode": "from collections import Counter\nimport nltk, json\nimport numpy as np\nimport pandas as pd\nfrom sklearn.model_selection import train_test_split\nimport torch\nimport torch.nn as nn\nimport torch.nn.functional as F\nfrom torch.utils.data import TensorDataset, DataLoader\nfrom torchmetrics import Accuracy, Precision, Recall"
   },
   "outputs": [],
   "source": [
    "from collections import Counter\n",
    "import nltk, json\n",
    "import numpy as np\n",
    "import pandas as pd\n",
    "from sklearn.model_selection import train_test_split\n",
    "import torch\n",
    "import torch.nn as nn\n",
    "import torch.nn.functional as F\n",
    "from torch.utils.data import TensorDataset, DataLoader\n",
    "from torchmetrics import Accuracy, Precision, Recall"
   ]
  },
  {
   "cell_type": "code",
   "execution_count": null,
   "id": "37a51a81-1301-4a80-b8c6-716faaff4c5c",
   "metadata": {
    "collapsed": true,
    "executionCancelledAt": null,
    "executionTime": 52,
    "jupyter": {
     "outputs_hidden": true,
     "source_hidden": false
    },
    "lastExecutedAt": 1736925319247,
    "lastExecutedByKernel": "8225b660-98ad-4d38-ba81-b4f845067e82",
    "lastScheduledRunId": null,
    "lastSuccessfullyExecutedCode": "nltk.download('punkt')",
    "outputsMetadata": {
     "0": {
      "height": 80,
      "type": "stream"
     }
    }
   },
   "outputs": [],
   "source": [
    "nltk.download('punkt')"
   ]
  },
  {
   "cell_type": "code",
   "execution_count": 6,
   "id": "e1b12eaf-e55c-422c-94a2-b0197c465a1b",
   "metadata": {
    "executionCancelledAt": null,
    "executionTime": 115,
    "lastExecutedAt": 1736925319362,
    "lastExecutedByKernel": "8225b660-98ad-4d38-ba81-b4f845067e82",
    "lastScheduledRunId": null,
    "lastSuccessfullyExecutedCode": "# Import data and labels\nwith open(\"words.json\", 'r') as f1:\n    words = json.load(f1)\nwith open(\"text.json\", 'r') as f2:\n    text = json.load(f2)\nlabels = np.load('labels.npy')"
   },
   "outputs": [],
   "source": [
    "# Import data and labels\n",
    "with open(\"words.json\", 'r') as f1:\n",
    "    words = json.load(f1)\n",
    "with open(\"text.json\", 'r') as f2:\n",
    "    text = json.load(f2)\n",
    "labels = np.load('labels.npy')"
   ]
  },
  {
   "cell_type": "code",
   "execution_count": 8,
   "id": "d630badb-23dd-4368-9a96-e2b478ad5cff",
   "metadata": {
    "executionCancelledAt": null,
    "executionTime": 270,
    "lastExecutedAt": 1736925319634,
    "lastExecutedByKernel": "8225b660-98ad-4d38-ba81-b4f845067e82",
    "lastScheduledRunId": null,
    "lastSuccessfullyExecutedCode": "# Dictionaries to store the word to index mappings and vice versa\nword2idx = {o:i for i,o in enumerate(words)}\nidx2word = {i:o for i,o in enumerate(words)}\n\n# Looking up the mapping dictionary and assigning the index to the respective words\nfor i, sentence in enumerate(text):\n    text[i] = [word2idx[word] if word in word2idx else 0 for word in sentence]\n    \n# Defining a function that either shortens sentences or pads sentences with 0 to a fixed length\ndef pad_input(sentences, seq_len):\n    features = np.zeros((len(sentences), seq_len),dtype=int)\n    for ii, review in enumerate(sentences):\n        if len(review) != 0:\n            features[ii, -len(review):] = np.array(review)[:seq_len]\n    return features\n\ntext = pad_input(text, 50)"
   },
   "outputs": [],
   "source": [
    "# Dictionaries to store the word to index mappings and vice versa\n",
    "word2idx = {o:i for i,o in enumerate(words)}\n",
    "idx2word = {i:o for i,o in enumerate(words)}\n",
    "\n",
    "# Looking up the mapping dictionary and assigning the index to the respective words\n",
    "for i, sentence in enumerate(text):\n",
    "    text[i] = [word2idx[word] if word in word2idx else 0 for word in sentence]\n",
    "    \n",
    "# Defining a function that either shortens sentences or pads sentences with 0 to a fixed length\n",
    "def pad_input(sentences, seq_len):\n",
    "    features = np.zeros((len(sentences), seq_len),dtype=int)\n",
    "    for ii, review in enumerate(sentences):\n",
    "        if len(review) != 0:\n",
    "            features[ii, -len(review):] = np.array(review)[:seq_len]\n",
    "    return features\n",
    "\n",
    "text = pad_input(text, 50)"
   ]
  },
  {
   "cell_type": "code",
   "execution_count": 9,
   "id": "f2654836-631f-415e-9922-5ab3bafaaafa",
   "metadata": {
    "executionCancelledAt": null,
    "executionTime": 51,
    "lastExecutedAt": 1736925319687,
    "lastExecutedByKernel": "8225b660-98ad-4d38-ba81-b4f845067e82",
    "lastScheduledRunId": null,
    "lastSuccessfullyExecutedCode": "# Splitting dataset\ntrain_text, test_text, train_label, test_label = train_test_split(text, labels, test_size=0.2, random_state=42)\n\ntrain_data = TensorDataset(torch.from_numpy(train_text), torch.from_numpy(train_label).long())\ntest_data = TensorDataset(torch.from_numpy(test_text), torch.from_numpy(test_label).long())"
   },
   "outputs": [],
   "source": [
    "# Splitting dataset\n",
    "train_text, test_text, train_label, test_label = train_test_split(text, labels, test_size=0.2, random_state=42)\n",
    "\n",
    "train_data = TensorDataset(torch.from_numpy(train_text), torch.from_numpy(train_label).long())\n",
    "test_data = TensorDataset(torch.from_numpy(test_text), torch.from_numpy(test_label).long())"
   ]
  },
  {
   "cell_type": "code",
   "execution_count": 10,
   "id": "27aa7189-77ee-4023-942c-63a8ebfdfcd0",
   "metadata": {
    "executionCancelledAt": null,
    "executionTime": 48,
    "lastExecutedAt": 1736925319735,
    "lastExecutedByKernel": "8225b660-98ad-4d38-ba81-b4f845067e82",
    "lastScheduledRunId": null,
    "lastSuccessfullyExecutedCode": "batch_size = 400\ntrain_loader = DataLoader(train_data, shuffle=True, batch_size=batch_size)\ntest_loader = DataLoader(test_data, shuffle=False, batch_size=batch_size)"
   },
   "outputs": [],
   "source": [
    "batch_size = 400\n",
    "train_loader = DataLoader(train_data, shuffle=True, batch_size=batch_size)\n",
    "test_loader = DataLoader(test_data, shuffle=False, batch_size=batch_size)"
   ]
  },
  {
   "cell_type": "code",
   "execution_count": 11,
   "id": "38637888-11ba-4b56-9185-ea3fbd85f0dc",
   "metadata": {
    "executionCancelledAt": null,
    "executionTime": 52,
    "lastExecutedAt": 1736925319787,
    "lastExecutedByKernel": "8225b660-98ad-4d38-ba81-b4f845067e82",
    "lastScheduledRunId": null,
    "lastSuccessfullyExecutedCode": "# Define the classifier class\nclass TicketClassifier(nn.Module):\n    def __init__(self, vocab_size, embed_dim, target_size):\n        super(TicketClassifier, self).__init__()\n        self.embedding = nn.Embedding(vocab_size, embed_dim)\n        self.conv = nn.Conv1d(embed_dim, embed_dim, kernel_size=3, stride=1, padding=1)\n        self.fc = nn.Linear(embed_dim, target_size)\n\n    def forward(self, text):\n        embedded = self.embedding(text).permute(0, 2, 1)\n        conved = F.relu(self.conv(embedded))\n        conved = conved.mean(dim=2) \n        return self.fc(conved)\n"
   },
   "outputs": [],
   "source": [
    "# Define the classifier class\n",
    "class TicketClassifier(nn.Module):\n",
    "    def __init__(self, vocab_size, embed_dim, target_size):\n",
    "        super(TicketClassifier, self).__init__()\n",
    "        self.embedding = nn.Embedding(vocab_size, embed_dim)\n",
    "        self.conv = nn.Conv1d(embed_dim, embed_dim, kernel_size=3, stride=1, padding=1)\n",
    "        self.fc = nn.Linear(embed_dim, target_size)\n",
    "\n",
    "    def forward(self, text):\n",
    "        embedded = self.embedding(text).permute(0, 2, 1)\n",
    "        conved = F.relu(self.conv(embedded))\n",
    "        conved = conved.mean(dim=2) \n",
    "        return self.fc(conved)\n"
   ]
  },
  {
   "cell_type": "code",
   "execution_count": 12,
   "id": "09b04183-de3b-42b4-af13-6f9460b6ddcc",
   "metadata": {
    "executionCancelledAt": null,
    "executionTime": 1851,
    "lastExecutedAt": 1736925321640,
    "lastExecutedByKernel": "8225b660-98ad-4d38-ba81-b4f845067e82",
    "lastScheduledRunId": null,
    "lastSuccessfullyExecutedCode": "vocab_size = len(word2idx) + 1\ntarget_size = len(np.unique(labels))\nembedding_dim = 64\n\n# Create an instance of the TicketClassifier class\nmodel = TicketClassifier(vocab_size, embedding_dim, target_size)\n\nlr = 0.05\ncriterion = nn.CrossEntropyLoss()\noptimizer = torch.optim.Adam(model.parameters(), lr=lr)\n\nepochs = 3\n\n# Train the model\nmodel.train()\nfor i in range(epochs):\n    running_loss, num_processed = 0,0\n    for inputs, labels in train_loader:\n        model.zero_grad()\n        output = model(inputs)\n        loss = criterion(output, labels)\n        loss.backward()\n        optimizer.step()\n        running_loss += loss.item()\n        num_processed += len(inputs)\n    print(f\"Epoch: {i+1}, Loss: {running_loss/num_processed}\")\n",
    "outputsMetadata": {
     "0": {
      "height": 59,
      "type": "stream"
     }
    }
   },
   "outputs": [
    {
     "name": "stdout",
     "output_type": "stream",
     "text": [
      "Epoch: 1, Loss: 0.0037564967274665833\n",
      "Epoch: 2, Loss: 0.0015416413843631744\n",
      "Epoch: 3, Loss: 0.0007118567116558552\n"
     ]
    }
   ],
   "source": [
    "vocab_size = len(word2idx) + 1\n",
    "target_size = len(np.unique(labels))\n",
    "embedding_dim = 64\n",
    "\n",
    "# Create an instance of the TicketClassifier class\n",
    "model = TicketClassifier(vocab_size, embedding_dim, target_size)\n",
    "\n",
    "lr = 0.05\n",
    "criterion = nn.CrossEntropyLoss()\n",
    "optimizer = torch.optim.Adam(model.parameters(), lr=lr)\n",
    "\n",
    "epochs = 3\n",
    "\n",
    "# Train the model\n",
    "model.train()\n",
    "for i in range(epochs):\n",
    "    running_loss, num_processed = 0,0\n",
    "    for inputs, labels in train_loader:\n",
    "        model.zero_grad()\n",
    "        output = model(inputs)\n",
    "        loss = criterion(output, labels)\n",
    "        loss.backward()\n",
    "        optimizer.step()\n",
    "        running_loss += loss.item()\n",
    "        num_processed += len(inputs)\n",
    "    print(f\"Epoch: {i+1}, Loss: {running_loss/num_processed}\")\n"
   ]
  },
  {
   "cell_type": "code",
   "execution_count": 13,
   "id": "d2b3c50c-66b1-40ed-a17c-038e7addc7ec",
   "metadata": {
    "executionCancelledAt": null,
    "executionTime": 100,
    "lastExecutedAt": 1736925321740,
    "lastExecutedByKernel": "8225b660-98ad-4d38-ba81-b4f845067e82",
    "lastScheduledRunId": null,
    "lastSuccessfullyExecutedCode": "accuracy_metric = Accuracy(task='multiclass', num_classes=5)\nprecision_metric = Precision(task='multiclass', num_classes=5, average=None)\nrecall_metric = Recall(task='multiclass', num_classes=5, average=None)\n\n# Evaluate model on test set\nmodel.eval()\npredicted = []\n\nfor i, (inputs, labels) in enumerate(test_loader):\n    output = model(inputs)\n    cat = torch.argmax(output, dim=-1)\n    predicted.extend(cat.tolist())\n    accuracy_metric(cat, labels)\n    precision_metric(cat, labels)\n    recall_metric(cat, labels)\n\naccuracy = accuracy_metric.compute().item()\nprecision = precision_metric.compute().tolist()\nrecall = recall_metric.compute().tolist()\n\nprint('Accuracy:', accuracy)\nprint('Precision (per class):', precision)\nprint('Recall (per class):', recall)",
    "outputsMetadata": {
     "0": {
      "height": 122,
      "type": "stream"
     }
    }
   },
   "outputs": [
    {
     "name": "stdout",
     "output_type": "stream",
     "text": [
      "Accuracy: 0.7950000166893005\n",
      "Precision (per class): [0.7230769395828247, 0.6975609660148621, 0.9125683307647705, 0.7652581930160522, 0.8872548937797546]\n",
      "Recall (per class): [0.734375, 0.7526316046714783, 0.7731481194496155, 0.8489583134651184, 0.8619047403335571]\n"
     ]
    }
   ],
   "source": [
    "accuracy_metric = Accuracy(task='multiclass', num_classes=5)\n",
    "precision_metric = Precision(task='multiclass', num_classes=5, average=None)\n",
    "recall_metric = Recall(task='multiclass', num_classes=5, average=None)\n",
    "\n",
    "# Evaluate model on test set\n",
    "model.eval()\n",
    "predicted = []\n",
    "\n",
    "for i, (inputs, labels) in enumerate(test_loader):\n",
    "    output = model(inputs)\n",
    "    cat = torch.argmax(output, dim=-1)\n",
    "    predicted.extend(cat.tolist())\n",
    "    accuracy_metric(cat, labels)\n",
    "    precision_metric(cat, labels)\n",
    "    recall_metric(cat, labels)\n",
    "\n",
    "accuracy = accuracy_metric.compute().item()\n",
    "precision = precision_metric.compute().tolist()\n",
    "recall = recall_metric.compute().tolist()\n",
    "\n",
    "print('Accuracy:', accuracy)\n",
    "print('Precision (per class):', precision)\n",
    "print('Recall (per class):', recall)"
   ]
  },
  {
   "cell_type": "code",
   "execution_count": null,
   "id": "a0ce17e0",
   "metadata": {},
   "outputs": [],
   "source": []
  }
 ],
 "metadata": {
  "colab": {
   "name": "Welcome to DataCamp Workspaces.ipynb",
   "provenance": []
  },
  "kernelspec": {
   "display_name": "Python 3",
   "language": "python",
   "name": "python3"
  },
  "language_info": {
   "codemirror_mode": {
    "name": "ipython",
    "version": 3
   },
   "file_extension": ".py",
   "mimetype": "text/x-python",
   "name": "python",
   "nbconvert_exporter": "python",
   "pygments_lexer": "ipython3",
   "version": "3.11.9"
  }
 },
 "nbformat": 4,
 "nbformat_minor": 5
}
